{
 "cells": [
  {
   "cell_type": "markdown",
   "id": "82575edb",
   "metadata": {
    "slideshow": {
     "slide_type": "skip"
    },
    "tags": []
   },
   "source": [
    "# 2021 IIW Annual Assembly C-XII\n",
    "This notebook is an extended interactive version of the `weldx` features and example dataset presented at the **2021 IIW Annual Assembly C-XII** meeting.\n",
    "\n",
    "The code of this notebook can be found here: https://github.com/BAMWelDX/IIW2021_AA_CXII\n",
    "\n",
    "You can launch this notebook as an interactive binder session in your browser following this link: \\\n",
    "https://mybinder.org/v2/gh/BAMWelDX/IIW2021_AA_CXII/main?urlpath=lab/tree/iiw2021_CXII_fabry_cagtay_01.ipynb\n",
    "\n",
    "The `weldx` documentation and code is available online:\\\n",
    "https://weldx.readthedocs.io/en/latest/ \\\n",
    "https://github.com/BAMWelDX/weldx\n",
    "\n",
    "The `weldx` documentation and GitHub links for this specific code version `v0.5.0` can be found here:\\\n",
    "https://weldx.readthedocs.io/en/v0.5.0/index.html \\\n",
    "https://github.com/BAMWelDX/weldx/tree/v0.5.0"
   ]
  },
  {
   "cell_type": "markdown",
   "id": "c55e3de1",
   "metadata": {
    "slideshow": {
     "slide_type": "skip"
    }
   },
   "source": [
    "## Process Video\n",
    "To give an ovierview of this welding example, here is a video recording of the welding experiment conducted at BAM.\n",
    "\n",
    "We can see the pre- and post-welding scan of the workpiece geometry as well as the position of the temperature measurements.\n",
    "\n",
    "<video controls src=\"./data/WID417.avi\" />"
   ]
  },
  {
   "cell_type": "markdown",
   "id": "60d2c39e",
   "metadata": {
    "slideshow": {
     "slide_type": "skip"
    }
   },
   "source": [
    "## Imports\n",
    "We start with some general python package imports used throughout this notebook."
   ]
  },
  {
   "cell_type": "code",
   "execution_count": 1,
   "id": "7c835446",
   "metadata": {
    "slideshow": {
     "slide_type": "skip"
    }
   },
   "outputs": [],
   "source": [
    "import pprint\n",
    "\n",
    "import matplotlib.pyplot as plt\n",
    "import pandas as pd\n",
    "import weldx\n",
    "from weldx import Q_, WeldxFile\n",
    "from weldx.asdf.util import get_schema_path, view_tree\n",
    "\n",
    "pp = pprint.PrettyPrinter(indent=2)\n",
    "pprint = pp.pprint"
   ]
  },
  {
   "cell_type": "markdown",
   "id": "9abf12e3",
   "metadata": {
    "slideshow": {
     "slide_type": "skip"
    }
   },
   "source": [
    "Some helper functions for this notebook are included in the `helpers.py` file."
   ]
  },
  {
   "cell_type": "code",
   "execution_count": 2,
   "id": "807f1c89",
   "metadata": {
    "slideshow": {
     "slide_type": "skip"
    }
   },
   "outputs": [],
   "source": [
    "from helpers import (add_axis_labels_3d, ax_setup, build_base_csm,\n",
    "                     create_geometry, cs_colors, ipympl_style, plot_gmaw,\n",
    "                     plot_measurements, plot_signal, welding_wire_geo_data)"
   ]
  },
  {
   "cell_type": "markdown",
   "id": "347625bb-198e-4997-8b6f-a0c18caa9031",
   "metadata": {},
   "source": [
    "# Debug"
   ]
  },
  {
   "cell_type": "code",
   "execution_count": 3,
   "id": "5508d1e1-b752-4196-ac2d-932d7c1a356b",
   "metadata": {},
   "outputs": [],
   "source": [
    "from weldx.asdf.extension import get_legacy_resource_mapping\n",
    "\n",
    "mapping = get_legacy_resource_mapping()"
   ]
  },
  {
   "cell_type": "code",
   "execution_count": 4,
   "id": "26b41c8c-87e4-4c59-b2ac-7e2aa6660d92",
   "metadata": {},
   "outputs": [
    {
     "data": {
      "text/plain": [
       "{'$schema': 'http://stsci.edu/schemas/yaml-schema/draft-01',\n",
       " 'id': 'http://weldx.bam.de/schemas/weldx/core/file-1.0.0',\n",
       " 'tag': 'tag:weldx.bam.de:weldx/core/file-1.0.0',\n",
       " 'title': 'Schema for a file.\\n',\n",
       " 'description': 'This schema describes a file by compiling all its meta data. Optionally, the whole file can also be stored in the\\nbinary block of an asdf file.\\n',\n",
       " 'examples': [['Full description of a pdf-file without its content',\n",
       "   \"!<tag:weldx.bam.de:weldx/core/file-1.0.0>\\n  filename: file.pdf\\n  suffix: pdf\\n  hostname: my_computer\\n  directory: C:/Users/some_user/my_files\\n  size: 90571\\n  created: !<tag:weldx.bam.de:weldx/time/timestamp-1.0.0> {value: '2020-12-09T12:51:20.653744500'}\\n  modified: !<tag:weldx.bam.de:weldx/time/timestamp-1.0.0> {value: '2020-12-10T13:14:17.362481500'}\\n  content_hash: {algorithm: SHA-256, value: 5a6270ea5e2662c6489ee9e9c2201645e1b3cdadf0e3a621cca213a29ff4ae32}\\n\"]],\n",
       " 'type': 'object',\n",
       " 'properties': {'filename': {'description': 'The name of the file including the suffix.\\n',\n",
       "   'type': 'string'},\n",
       "  'suffix': {'description': 'The suffix of the file.\\n', 'type': 'string'},\n",
       "  'size': {'description': 'The files size in bytes.\\n', 'type': 'number'},\n",
       "  'created': {'description': 'The timestamp when the file was created.\\n',\n",
       "   'tag': 'tag:weldx.bam.de:weldx/time/timestamp-1.0.0'},\n",
       "  'modified': {'description': 'The timestamp when the file was modified last.\\n',\n",
       "   'tag': 'tag:weldx.bam.de:weldx/time/timestamp-1.0.0'},\n",
       "  'hostname': {'description': 'The name of the host machine accessing the file.\\n',\n",
       "   'type': 'string'},\n",
       "  'directory': {'description': 'The directory of the file as seen from the host machine.\\n',\n",
       "   'type': 'string'},\n",
       "  'content': {'description': 'The content of the file. It is stored in the binary block of the file.\\n',\n",
       "   'tag': 'tag:stsci.edu:asdf/core/ndarray-1.*'},\n",
       "  'content_hash': {'description': 'Hash data for the files content.\\n',\n",
       "   'type': 'object',\n",
       "   'properties': {'algorithm': {'description': 'The utilized hashing algorithm.\\n',\n",
       "     'type': 'string',\n",
       "     'enum': ['MD5', 'SHA-256']},\n",
       "    'value': {'description': 'The calculated hash.\\n', 'type': 'string'}},\n",
       "   'required': ['algorithm', 'value']}},\n",
       " 'propertyOrder': ['filename',\n",
       "  'suffix',\n",
       "  'hostname',\n",
       "  'directory',\n",
       "  'size',\n",
       "  'created',\n",
       "  'modified',\n",
       "  'content',\n",
       "  'content_hash'],\n",
       " 'anyOf': [{'required': ['filename', 'content', 'content_hash']},\n",
       "  {'required': ['filename', 'hostname']}],\n",
       " 'flowStyle': 'block'}"
      ]
     },
     "execution_count": 4,
     "metadata": {},
     "output_type": "execute_result"
    }
   ],
   "source": [
    "from asdf.schema import load_schema\n",
    "\n",
    "uri = \"http://weldx.bam.de/schemas/weldx/core/file-1.0.0\"\n",
    "schema = load_schema(uri)\n",
    "schema"
   ]
  },
  {
   "cell_type": "markdown",
   "id": "49ce2eeb",
   "metadata": {
    "slideshow": {
     "slide_type": "slide"
    }
   },
   "source": [
    "## 1. Opening the file\n",
    "We define the `weldx` filename that contains the data used for this notebook."
   ]
  },
  {
   "cell_type": "code",
   "execution_count": 5,
   "id": "d4985df4",
   "metadata": {
    "slideshow": {
     "slide_type": "-"
    }
   },
   "outputs": [],
   "source": [
    "filename = \"./single_pass_weld_04.weldx\""
   ]
  },
  {
   "cell_type": "markdown",
   "id": "b21b39e5",
   "metadata": {
    "slideshow": {
     "slide_type": "skip"
    }
   },
   "source": [
    "To get an overview of the file contents we can use the `view_tree` function of the `weldx` library to create an interactive tree view.\n",
    "\n",
    "Try searching for a specific term like `wire_feedrate` using the ***Filter...*** box in the upper right."
   ]
  },
  {
   "cell_type": "code",
   "execution_count": 6,
   "id": "73f5f7a2",
   "metadata": {
    "slideshow": {
     "slide_type": "skip"
    }
   },
   "outputs": [
    {
     "data": {
      "application/json": {
       "TCP": {
        "coordinates": {
         "data": {
          "data": [
           [
            20,
            0,
            3
           ],
           [
            330,
            0,
            3
           ]
          ],
          "datatype": "float64",
          "shape": [
           2,
           3
          ]
         },
         "dimensions": [
          "time",
          "c"
         ],
         "dtype": "<f8",
         "name": "coordinates"
        },
        "reference_time": {
         "value": "2021-03-17T11:06:42.334400"
        },
        "time": {
         "end": {
          "value": "P0DT0H0M41.333333333S"
         },
         "max": {
          "value": "P0DT0H0M41.333333333S"
         },
         "min": {
          "value": "P0DT0H0M0S"
         },
         "start": {
          "value": "P0DT0H0M0S"
         },
         "values": {
          "data": [
           0,
           41333333333
          ],
          "datatype": "int64",
          "shape": [
           2
          ]
         }
        }
       },
       "asdf_library": {
        "author": "The ASDF Developers",
        "homepage": "http://github.com/asdf-format/asdf",
        "name": "asdf",
        "version": "2.8.1"
       },
       "coordinate_systems": {
        "coordinate_systems": [
         {
          "name": "user_frame",
          "reference_system": "workpiece",
          "transformation": {
           "coordinates": {
            "data": {
             "data": [
              20,
              -115.5,
              8
             ],
             "datatype": "float64",
             "shape": [
              3
             ]
            },
            "dimensions": [
             "c"
            ],
            "dtype": "<f8",
            "name": "coordinates"
           }
          }
         },
         {
          "name": "TCP",
          "reference_system": "user_frame",
          "transformation": {
           "coordinates": {
            "data": {
             "byteorder": "little",
             "datatype": "float64",
             "shape": [
              5176,
              3
             ],
             "source": 4
            },
            "dimensions": [
             "time",
             "c"
            ],
            "dtype": "<f8",
            "name": "coordinates"
           },
           "reference_time": {
            "value": "2021-03-17T11:06:41.849400"
           },
           "time": {
            "end": {
             "value": "P0DT0H0M41.4S"
            },
            "freq": "8L",
            "max": {
             "value": "P0DT0H0M41.4S"
            },
            "min": {
             "value": "P0DT0H0M0S"
            },
            "start": {
             "value": "P0DT0H0M0S"
            }
           }
          }
         },
         {
          "name": "TCP",
          "reference_system": "flange",
          "transformation": {
           "coordinates": {
            "data": {
             "data": [
              -49.325,
              -0.41,
              477.208
             ],
             "datatype": "float64",
             "shape": [
              3
             ]
            },
            "dimensions": [
             "c"
            ],
            "dtype": "<f8",
            "name": "coordinates"
           },
           "orientations": {
            "data": {
             "data": [
              [
               0.9267336773751215,
               0.013819064325030852,
               0.3754646783386755
              ],
              [
               0.016515967820919346,
               -0.999855739167001,
               -0.003965307270386556
              ],
              [
               0.37535571665517864,
               0.009875946333941035,
               -0.9268282212245625
              ]
             ],
             "datatype": "float64",
             "shape": [
              3,
              3
             ]
            },
            "dimensions": [
             "c",
             "v"
            ],
            "dtype": "<f8",
            "name": "orientations"
           }
          }
         },
         {
          "name": "LLT_1",
          "reference_system": "flange",
          "transformation": {
           "coordinates": {
            "data": {
             "data": [
              -47.25,
              0.2,
              516.75
             ],
             "datatype": "float64",
             "shape": [
              3
             ]
            },
            "dimensions": [
             "c"
            ],
            "dtype": "<f8",
            "name": "coordinates"
           },
           "orientations": {
            "data": {
             "data": [
              [
               0.9267343612134203,
               0.013816681174916207,
               0.37546307816836594
              ],
              [
               0.016514362037814815,
               -0.9998557560537017,
               -0.003967736478724144
              ],
              [
               0.375354098942369,
               0.009877570935778363,
               -0.9268288590670722
              ]
             ],
             "datatype": "float64",
             "shape": [
              3,
              3
             ]
            },
            "dimensions": [
             "c",
             "v"
            ],
            "dtype": "<f8",
            "name": "orientations"
           }
          }
         },
         {
          "name": "XIRIS_1",
          "reference_system": "flange",
          "transformation": {
           "coordinates": {
            "data": {
             "data": [
              -49.325,
              -0.41,
              477.208
             ],
             "datatype": "float64",
             "shape": [
              3
             ]
            },
            "dimensions": [
             "c"
            ],
            "dtype": "<f8",
            "name": "coordinates"
           },
           "orientations": {
            "data": {
             "data": [
              [
               0.38980655948248927,
               0.01382002085303293,
               0.9207930566680259
              ],
              [
               0.014483631368437009,
               -0.999855717313102,
               0.008875188938022706
              ],
              [
               0.9207828574679309,
               0.009876820334708339,
               -0.38995048123225595
              ]
             ],
             "datatype": "float64",
             "shape": [
              3,
              3
             ]
            },
            "dimensions": [
             "c",
             "v"
            ],
            "dtype": "<f8",
            "name": "orientations"
           }
          }
         },
         {
          "name": "TCP design",
          "reference_system": "workpiece",
          "transformation": {
           "coordinates": {
            "data": {
             "data": [
              [
               20,
               0,
               3
              ],
              [
               330,
               0,
               3
              ]
             ],
             "datatype": "float64",
             "shape": [
              2,
              3
             ]
            },
            "dimensions": [
             "time",
             "c"
            ],
            "dtype": "<f8",
            "name": "coordinates"
           },
           "time": {
            "end": {
             "value": "P0DT0H0M41.333333333S"
            },
            "max": {
             "value": "P0DT0H0M41.333333333S"
            },
            "min": {
             "value": "P0DT0H0M0S"
            },
            "start": {
             "value": "P0DT0H0M0S"
            },
            "values": {
             "data": [
              0,
              41333333333
             ],
             "datatype": "int64",
             "shape": [
              2
             ]
            }
           }
          }
         },
         {
          "name": "T1",
          "reference_system": "workpiece",
          "transformation": {
           "coordinates": {
            "data": {
             "data": [
              175,
              8,
              8
             ],
             "datatype": "float64",
             "shape": [
              3
             ]
            },
            "dimensions": [
             "c"
            ],
            "dtype": "<f8",
            "name": "coordinates"
           }
          }
         },
         {
          "name": "T2",
          "reference_system": "T1",
          "transformation": {
           "coordinates": {
            "data": {
             "data": [
              0,
              5,
              0
             ],
             "datatype": "float64",
             "shape": [
              3
             ]
            },
            "dimensions": [
             "c"
            ],
            "dtype": "<f8",
            "name": "coordinates"
           }
          }
         }
        ],
        "name": "Robot Trace",
        "reference_time": {
         "value": "2021-03-17T11:06:42.334400"
        },
        "root_system_name": "user_frame",
        "spatial_data": [
         {
          "coordinate_system": "workpiece",
          "data": {
           "coordinates": {
            "byteorder": "little",
            "datatype": "float32",
            "shape": [
             277977,
             3
            ],
            "source": 5
           },
           "triangles": {
            "byteorder": "little",
            "datatype": "uint32",
            "shape": [
             553800,
             3
            ],
            "source": 6
           }
          },
          "name": "scan_0"
         },
         {
          "coordinate_system": "workpiece",
          "data": {
           "coordinates": {
            "byteorder": "little",
            "datatype": "float32",
            "shape": [
             249368,
             3
            ],
            "source": 7
           },
           "triangles": {
            "byteorder": "little",
            "datatype": "uint32",
            "shape": [
             496716,
             3
            ],
            "source": 8
           }
          },
          "name": "scan_1"
         }
        ],
        "subsystem_names": [
         "TOOL config",
         "TCP trace design"
        ],
        "subsystems": [
         {
          "members": [
           "LLT_1",
           "flange",
           "TCP",
           "XIRIS_1"
          ],
          "name": "TOOL config",
          "parent_system": "Robot Trace",
          "root_cs": "flange",
          "subsystem_names": []
         },
         {
          "members": [
           "user_frame",
           "workpiece",
           "TCP design",
           "T1",
           "T2"
          ],
          "name": "TCP trace design",
          "parent_system": "Robot Trace",
          "root_cs": "workpiece",
          "subsystem_names": []
         }
        ]
       },
       "equipment": [
        {
         "name": "HKS P1000-S3",
         "sources": [
          {
           "error": {
            "deviation": {
             "unit": "percent",
             "value": 0.1
            }
           },
           "name": "Current Sensor",
           "output_signal": {
            "signal_type": "analog",
            "unit": "V"
           }
          },
          {
           "error": {
            "deviation": {
             "unit": "percent",
             "value": 0.1
            }
           },
           "name": "Voltage Sensor",
           "output_signal": {
            "signal_type": "analog",
            "unit": "V"
           }
          }
         ],
         "transformations": []
        },
        {
         "name": "Beckhoff ELM3002-0000",
         "sources": [],
         "transformations": [
          {
           "error": {
            "deviation": {
             "unit": "percent",
             "value": 0.01
            }
           },
           "func": {
            "expression": "a*x + b",
            "parameters": {
             "a": {
              "unit": "1 / volt",
              "value": 3276.8
             },
             "b": {
              "unit": "dimensionless",
              "value": 0
             }
            }
           },
           "name": "AD current conversion",
           "type_transformation": "AD"
          },
          {
           "error": {
            "deviation": {
             "unit": "percent",
             "value": 0.01
            }
           },
           "func": {
            "expression": "a*x + b",
            "parameters": {
             "a": {
              "unit": "1 / volt",
              "value": 3276.8
             },
             "b": {
              "unit": "dimensionless",
              "value": 0
             }
            }
           },
           "name": "AD voltage conversion",
           "type_transformation": "AD"
          }
         ]
        },
        {
         "name": "Beckhoff EL3314-0010",
         "sources": [],
         "transformations": [
          {
           "error": {
            "deviation": {
             "unit": "microvolt",
             "value": 0.25
            }
           },
           "func": {
            "expression": "a*x",
            "parameters": {
             "a": {
              "unit": "1 / volt",
              "value": 1
             }
            }
           },
           "name": "AD temperature conversion T1",
           "type_transformation": "AD"
          },
          {
           "error": {
            "deviation": {
             "unit": "microvolt",
             "value": 0.25
            }
           },
           "func": {
            "expression": "a*x",
            "parameters": {
             "a": {
              "unit": "1 / volt",
              "value": 1
             }
            }
           },
           "name": "AD temperature conversion T2",
           "type_transformation": "AD"
          }
         ]
        }
       ],
       "history": {
        "extensions": [
         {
          "extension_class": "asdf.extension.BuiltinExtension",
          "software": {
           "name": "asdf",
           "version": "2.8.1"
          }
         },
         {
          "extension_class": "weldx.asdf.extension.WeldxExtension",
          "software": {
           "name": "weldx",
           "version": "0.4.0"
          }
         },
         {
          "extension_class": "weldx.asdf.extension.WeldxAsdfExtension",
          "software": {
           "name": "weldx",
           "version": "0.4.0"
          }
         }
        ]
       },
       "measurements": [
        {
         "data": [
          {
           "interpolation": "step",
           "shape": [
            414091
           ],
           "time": {
            "end": {
             "value": "P0DT0H0M40.921S"
            },
            "max": {
             "value": "P0DT0H0M40.921S"
            },
            "min": {
             "value": "P-1DT23H59M59.512S"
            },
            "start": {
             "value": "P-1DT23H59M59.512S"
            },
            "values": {
             "byteorder": "little",
             "datatype": "int64",
             "shape": [
              414091
             ],
             "source": 0
            }
           },
           "unit": "ampere",
           "values": {
            "byteorder": "little",
            "datatype": "float64",
            "shape": [
             414091
            ],
            "source": 1
           }
          }
         ],
         "measurement_chain": {
          "data_source": {
           "error": {
            "deviation": {
             "unit": "percent",
             "value": 0.1
            }
           },
           "name": "Current Sensor",
           "output_signal": {
            "signal_type": "analog",
            "unit": "V"
           }
          },
          "graph": {
           "root_node": {
            "attributes": {
             "signal": {
              "signal_type": "analog",
              "unit": "V"
             }
            },
            "edges": [
             {
              "attributes": {
               "equipment": {
                "name": "Beckhoff ELM3002-0000",
                "sources": [],
                "transformations": [
                 {
                  "error": {
                   "deviation": {
                    "unit": "percent",
                    "value": 0.01
                   }
                  },
                  "func": {
                   "expression": "a*x + b",
                   "parameters": {
                    "a": {
                     "unit": "1 / volt",
                     "value": 3276.8
                    },
                    "b": {
                     "unit": "dimensionless",
                     "value": 0
                    }
                   }
                  },
                  "name": "AD current conversion",
                  "type_transformation": "AD"
                 },
                 {
                  "error": {
                   "deviation": {
                    "unit": "percent",
                    "value": 0.01
                   }
                  },
                  "func": {
                   "expression": "a*x + b",
                   "parameters": {
                    "a": {
                     "unit": "1 / volt",
                     "value": 3276.8
                    },
                    "b": {
                     "unit": "dimensionless",
                     "value": 0
                    }
                   }
                  },
                  "name": "AD voltage conversion",
                  "type_transformation": "AD"
                 }
                ]
               },
               "transformation": {
                "error": {
                 "deviation": {
                  "unit": "percent",
                  "value": 0.01
                 }
                },
                "func": {
                 "expression": "a*x + b",
                 "parameters": {
                  "a": {
                   "unit": "1 / volt",
                   "value": 3276.8
                  },
                  "b": {
                   "unit": "dimensionless",
                   "value": 0
                  }
                 }
                },
                "name": "AD current conversion",
                "type_transformation": "AD"
               }
              },
              "direction": "fwd",
              "target_node": {
               "attributes": {
                "signal": {
                 "signal_type": "digital",
                 "unit": "dimensionless"
                }
               },
               "edges": [
                {
                 "attributes": {
                  "transformation": {
                   "error": {
                    "deviation": 0
                   },
                   "func": {
                    "expression": "a*x + b",
                    "parameters": {
                     "a": {
                      "unit": "ampere",
                      "value": 0.030517578125
                     },
                     "b": {
                      "unit": "ampere",
                      "value": 0
                     }
                    }
                   },
                   "meta": {
                    "name": "Beckhoff TwinCAT ScopeView",
                    "version": "3.4.3143"
                   },
                   "name": "current calibration"
                  }
                 },
                 "direction": "fwd",
                 "target_node": {
                  "attributes": {
                   "signal": {
                    "data": {
                     "interpolation": "step",
                     "shape": [
                      414091
                     ],
                     "time": {
                      "end": {
                       "value": "P0DT0H0M40.921S"
                      },
                      "max": {
                       "value": "P0DT0H0M40.921S"
                      },
                      "min": {
                       "value": "P-1DT23H59M59.512S"
                      },
                      "start": {
                       "value": "P-1DT23H59M59.512S"
                      },
                      "values": {
                       "byteorder": "little",
                       "datatype": "int64",
                       "shape": [
                        414091
                       ],
                       "source": 0
                      }
                     },
                     "unit": "ampere",
                     "values": {
                      "byteorder": "little",
                      "datatype": "float64",
                      "shape": [
                       414091
                      ],
                      "source": 1
                     }
                    },
                    "signal_type": "digital",
                    "unit": "ampere"
                   }
                  },
                  "name": "current calibration"
                 }
                }
               ],
               "name": "AD current conversion"
              }
             }
            ],
            "name": "Current Sensor"
           }
          },
          "name": "welding current measurement chain",
          "source_equipment": {
           "name": "HKS P1000-S3",
           "sources": [
            {
             "error": {
              "deviation": {
               "unit": "percent",
               "value": 0.1
              }
             },
             "name": "Current Sensor",
             "output_signal": {
              "signal_type": "analog",
              "unit": "V"
             }
            },
            {
             "error": {
              "deviation": {
               "unit": "percent",
               "value": 0.1
              }
             },
             "name": "Voltage Sensor",
             "output_signal": {
              "signal_type": "analog",
              "unit": "V"
             }
            }
           ],
           "transformations": []
          }
         },
         "name": "welding current"
        },
        {
         "data": [
          {
           "interpolation": "step",
           "shape": [
            414091
           ],
           "time": {
            "end": {
             "value": "P0DT0H0M40.921S"
            },
            "max": {
             "value": "P0DT0H0M40.921S"
            },
            "min": {
             "value": "P-1DT23H59M59.512S"
            },
            "start": {
             "value": "P-1DT23H59M59.512S"
            },
            "values": {
             "byteorder": "little",
             "datatype": "int64",
             "shape": [
              414091
             ],
             "source": 2
            }
           },
           "unit": "volt",
           "values": {
            "byteorder": "little",
            "datatype": "float64",
            "shape": [
             414091
            ],
            "source": 3
           }
          }
         ],
         "measurement_chain": {
          "data_source": {
           "error": {
            "deviation": {
             "unit": "percent",
             "value": 0.1
            }
           },
           "name": "Voltage Sensor",
           "output_signal": {
            "signal_type": "analog",
            "unit": "V"
           }
          },
          "graph": {
           "root_node": {
            "attributes": {
             "signal": {
              "signal_type": "analog",
              "unit": "V"
             }
            },
            "edges": [
             {
              "attributes": {
               "equipment": {
                "name": "Beckhoff ELM3002-0000",
                "sources": [],
                "transformations": [
                 {
                  "error": {
                   "deviation": {
                    "unit": "percent",
                    "value": 0.01
                   }
                  },
                  "func": {
                   "expression": "a*x + b",
                   "parameters": {
                    "a": {
                     "unit": "1 / volt",
                     "value": 3276.8
                    },
                    "b": {
                     "unit": "dimensionless",
                     "value": 0
                    }
                   }
                  },
                  "name": "AD current conversion",
                  "type_transformation": "AD"
                 },
                 {
                  "error": {
                   "deviation": {
                    "unit": "percent",
                    "value": 0.01
                   }
                  },
                  "func": {
                   "expression": "a*x + b",
                   "parameters": {
                    "a": {
                     "unit": "1 / volt",
                     "value": 3276.8
                    },
                    "b": {
                     "unit": "dimensionless",
                     "value": 0
                    }
                   }
                  },
                  "name": "AD voltage conversion",
                  "type_transformation": "AD"
                 }
                ]
               },
               "transformation": {
                "error": {
                 "deviation": {
                  "unit": "percent",
                  "value": 0.01
                 }
                },
                "func": {
                 "expression": "a*x + b",
                 "parameters": {
                  "a": {
                   "unit": "1 / volt",
                   "value": 3276.8
                  },
                  "b": {
                   "unit": "dimensionless",
                   "value": 0
                  }
                 }
                },
                "name": "AD voltage conversion",
                "type_transformation": "AD"
               }
              },
              "direction": "fwd",
              "target_node": {
               "attributes": {
                "signal": {
                 "signal_type": "digital",
                 "unit": "dimensionless"
                }
               },
               "edges": [
                {
                 "attributes": {
                  "transformation": {
                   "error": {
                    "deviation": 0
                   },
                   "func": {
                    "expression": "a*x + b",
                    "parameters": {
                     "a": {
                      "unit": "volt",
                      "value": 0.0030517578125
                     },
                     "b": {
                      "unit": "volt",
                      "value": 0
                     }
                    }
                   },
                   "meta": {
                    "name": "Beckhoff TwinCAT ScopeView",
                    "version": "3.4.3143"
                   },
                   "name": "voltage calibration"
                  }
                 },
                 "direction": "fwd",
                 "target_node": {
                  "attributes": {
                   "signal": {
                    "data": {
                     "interpolation": "step",
                     "shape": [
                      414091
                     ],
                     "time": {
                      "end": {
                       "value": "P0DT0H0M40.921S"
                      },
                      "max": {
                       "value": "P0DT0H0M40.921S"
                      },
                      "min": {
                       "value": "P-1DT23H59M59.512S"
                      },
                      "start": {
                       "value": "P-1DT23H59M59.512S"
                      },
                      "values": {
                       "byteorder": "little",
                       "datatype": "int64",
                       "shape": [
                        414091
                       ],
                       "source": 2
                      }
                     },
                     "unit": "volt",
                     "values": {
                      "byteorder": "little",
                      "datatype": "float64",
                      "shape": [
                       414091
                      ],
                      "source": 3
                     }
                    },
                    "signal_type": "digital",
                    "unit": "volt"
                   }
                  },
                  "name": "voltage calibration"
                 }
                }
               ],
               "name": "AD voltage conversion"
              }
             }
            ],
            "name": "Voltage Sensor"
           }
          },
          "name": "welding voltage measurement chain",
          "source_equipment": {
           "name": "HKS P1000-S3",
           "sources": [
            {
             "error": {
              "deviation": {
               "unit": "percent",
               "value": 0.1
              }
             },
             "name": "Current Sensor",
             "output_signal": {
              "signal_type": "analog",
              "unit": "V"
             }
            },
            {
             "error": {
              "deviation": {
               "unit": "percent",
               "value": 0.1
              }
             },
             "name": "Voltage Sensor",
             "output_signal": {
              "signal_type": "analog",
              "unit": "V"
             }
            }
           ],
           "transformations": []
          }
         },
         "name": "welding voltage"
        },
        {
         "data": [
          {
           "interpolation": "step",
           "shape": [
            459092
           ],
           "time": {
            "end": {
             "value": "P0DT0H6M36.888S"
            },
            "freq": "L",
            "max": {
             "value": "P0DT0H6M36.888S"
            },
            "min": {
             "value": "P-1DT23H58M57.797S"
            },
            "start": {
             "value": "P-1DT23H58M57.797S"
            }
           },
           "unit": "degree_Celsius",
           "values": {
            "byteorder": "little",
            "datatype": "float64",
            "shape": [
             459092
            ],
            "source": 9
           }
          }
         ],
         "measurement_chain": {
          "data_source": {
           "error": {
            "deviation": {
             "unit": "microvolt",
             "value": 0.25
            }
           },
           "name": "Thermocouple T1",
           "output_signal": {
            "signal_type": "analog",
            "unit": "V"
           }
          },
          "graph": {
           "root_node": {
            "attributes": {
             "signal": {
              "signal_type": "analog",
              "unit": "V"
             }
            },
            "edges": [
             {
              "attributes": {
               "equipment": {
                "name": "Beckhoff EL3314-0010",
                "sources": [],
                "transformations": [
                 {
                  "error": {
                   "deviation": {
                    "unit": "microvolt",
                    "value": 0.25
                   }
                  },
                  "func": {
                   "expression": "a*x",
                   "parameters": {
                    "a": {
                     "unit": "1 / volt",
                     "value": 1
                    }
                   }
                  },
                  "name": "AD temperature conversion T1",
                  "type_transformation": "AD"
                 },
                 {
                  "error": {
                   "deviation": {
                    "unit": "microvolt",
                    "value": 0.25
                   }
                  },
                  "func": {
                   "expression": "a*x",
                   "parameters": {
                    "a": {
                     "unit": "1 / volt",
                     "value": 1
                    }
                   }
                  },
                  "name": "AD temperature conversion T2",
                  "type_transformation": "AD"
                 }
                ]
               },
               "transformation": {
                "error": {
                 "deviation": {
                  "unit": "microvolt",
                  "value": 0.25
                 }
                },
                "func": {
                 "expression": "a*x",
                 "parameters": {
                  "a": {
                   "unit": "1 / volt",
                   "value": 1
                  }
                 }
                },
                "name": "AD temperature conversion T1",
                "type_transformation": "AD"
               }
              },
              "direction": "fwd",
              "target_node": {
               "attributes": {
                "signal": {
                 "signal_type": "digital",
                 "unit": "dimensionless"
                }
               },
               "edges": [
                {
                 "attributes": {
                  "transformation": {
                   "error": {
                    "deviation": 0
                   },
                   "func": {
                    "expression": "a*x + b",
                    "parameters": {
                     "a": {
                      "unit": "delta_degree_Celsius",
                      "value": 0.1
                     },
                     "b": {
                      "unit": "degree_Celsius",
                      "value": 0
                     }
                    }
                   },
                   "meta": {
                    "name": "Beckhoff TwinCAT ScopeView",
                    "version": "3.4.3143"
                   },
                   "name": "temperature conversion"
                  }
                 },
                 "direction": "fwd",
                 "target_node": {
                  "attributes": {
                   "signal": {
                    "data": {
                     "interpolation": "step",
                     "shape": [
                      459092
                     ],
                     "time": {
                      "end": {
                       "value": "P0DT0H6M36.888S"
                      },
                      "freq": "L",
                      "max": {
                       "value": "P0DT0H6M36.888S"
                      },
                      "min": {
                       "value": "P-1DT23H58M57.797S"
                      },
                      "start": {
                       "value": "P-1DT23H58M57.797S"
                      }
                     },
                     "unit": "degree_Celsius",
                     "values": {
                      "byteorder": "little",
                      "datatype": "float64",
                      "shape": [
                       459092
                      ],
                      "source": 9
                     }
                    },
                    "signal_type": "digital",
                    "unit": "degree_Celsius"
                   }
                  },
                  "name": "temperature conversion"
                 }
                }
               ],
               "name": "AD temperature conversion T1"
              }
             }
            ],
            "name": "Thermocouple T1"
           }
          },
          "name": "temperature measurement chain T1",
          "source_equipment": {
           "name": "Thermocouple T1",
           "sources": [
            {
             "error": {
              "deviation": {
               "unit": "microvolt",
               "value": 0.25
              }
             },
             "name": "Thermocouple T1",
             "output_signal": {
              "signal_type": "analog",
              "unit": "V"
             }
            }
           ],
           "transformations": []
          }
         },
         "name": "temperature T1"
        },
        {
         "data": [
          {
           "interpolation": "step",
           "shape": [
            459092
           ],
           "time": {
            "end": {
             "value": "P0DT0H6M36.888S"
            },
            "freq": "L",
            "max": {
             "value": "P0DT0H6M36.888S"
            },
            "min": {
             "value": "P-1DT23H58M57.797S"
            },
            "start": {
             "value": "P-1DT23H58M57.797S"
            }
           },
           "unit": "degree_Celsius",
           "values": {
            "byteorder": "little",
            "datatype": "float64",
            "shape": [
             459092
            ],
            "source": 10
           }
          }
         ],
         "measurement_chain": {
          "data_source": {
           "error": {
            "deviation": {
             "unit": "microvolt",
             "value": 0.25
            }
           },
           "name": "Thermocouple T1",
           "output_signal": {
            "signal_type": "analog",
            "unit": "V"
           }
          },
          "graph": {
           "root_node": {
            "attributes": {
             "signal": {
              "signal_type": "analog",
              "unit": "V"
             }
            },
            "edges": [
             {
              "attributes": {
               "equipment": {
                "name": "Beckhoff EL3314-0010",
                "sources": [],
                "transformations": [
                 {
                  "error": {
                   "deviation": {
                    "unit": "microvolt",
                    "value": 0.25
                   }
                  },
                  "func": {
                   "expression": "a*x",
                   "parameters": {
                    "a": {
                     "unit": "1 / volt",
                     "value": 1
                    }
                   }
                  },
                  "name": "AD temperature conversion T1",
                  "type_transformation": "AD"
                 },
                 {
                  "error": {
                   "deviation": {
                    "unit": "microvolt",
                    "value": 0.25
                   }
                  },
                  "func": {
                   "expression": "a*x",
                   "parameters": {
                    "a": {
                     "unit": "1 / volt",
                     "value": 1
                    }
                   }
                  },
                  "name": "AD temperature conversion T2",
                  "type_transformation": "AD"
                 }
                ]
               },
               "transformation": {
                "error": {
                 "deviation": {
                  "unit": "microvolt",
                  "value": 0.25
                 }
                },
                "func": {
                 "expression": "a*x",
                 "parameters": {
                  "a": {
                   "unit": "1 / volt",
                   "value": 1
                  }
                 }
                },
                "name": "AD temperature conversion T2",
                "type_transformation": "AD"
               }
              },
              "direction": "fwd",
              "target_node": {
               "attributes": {
                "signal": {
                 "signal_type": "digital",
                 "unit": "dimensionless"
                }
               },
               "edges": [
                {
                 "attributes": {
                  "transformation": {
                   "error": {
                    "deviation": 0
                   },
                   "func": {
                    "expression": "a*x + b",
                    "parameters": {
                     "a": {
                      "unit": "delta_degree_Celsius",
                      "value": 0.1
                     },
                     "b": {
                      "unit": "degree_Celsius",
                      "value": 0
                     }
                    }
                   },
                   "meta": {
                    "name": "Beckhoff TwinCAT ScopeView",
                    "version": "3.4.3143"
                   },
                   "name": "temperature conversion"
                  }
                 },
                 "direction": "fwd",
                 "target_node": {
                  "attributes": {
                   "signal": {
                    "data": {
                     "interpolation": "step",
                     "shape": [
                      459092
                     ],
                     "time": {
                      "end": {
                       "value": "P0DT0H6M36.888S"
                      },
                      "freq": "L",
                      "max": {
                       "value": "P0DT0H6M36.888S"
                      },
                      "min": {
                       "value": "P-1DT23H58M57.797S"
                      },
                      "start": {
                       "value": "P-1DT23H58M57.797S"
                      }
                     },
                     "unit": "degree_Celsius",
                     "values": {
                      "byteorder": "little",
                      "datatype": "float64",
                      "shape": [
                       459092
                      ],
                      "source": 10
                     }
                    },
                    "signal_type": "digital",
                    "unit": "degree_Celsius"
                   }
                  },
                  "name": "temperature conversion"
                 }
                }
               ],
               "name": "AD temperature conversion T2"
              }
             }
            ],
            "name": "Thermocouple T1"
           }
          },
          "name": "temperature measurement chain T2",
          "source_equipment": {
           "name": "Thermocouple T1",
           "sources": [
            {
             "error": {
              "deviation": {
               "unit": "microvolt",
               "value": 0.25
              }
             },
             "name": "Thermocouple T1",
             "output_signal": {
              "signal_type": "analog",
              "unit": "V"
             }
            }
           ],
           "transformations": []
          }
         },
         "name": "temperature T2"
        }
       ],
       "process": {
        "shielding_gas": {
         "torch_shielding_gas": {
          "common_name": "corgon 18",
          "gas_component": [
           {
            "gas_chemical_name": "argon",
            "gas_percentage": {
             "unit": "percent",
             "value": 82
            }
           },
           {
            "gas_chemical_name": "carbon dioxide",
            "gas_percentage": {
             "unit": "percent",
             "value": 18
            }
           }
          ]
         },
         "torch_shielding_gas_flowrate": {
          "unit": "liter / minute",
          "value": 20
         },
         "use_torch_shielding_gas": true
        },
        "weld_speed": {
         "unit": "centimeter / minute",
         "value": 45
        },
        "welding_process": {
         "base_process": "pulse",
         "manufacturer": "Fronius",
         "parameters": {
          "base_voltage": {
           "unit": "volt",
           "value": 25
          },
          "pulse_current": {
           "unit": "ampere",
           "value": 480
          },
          "pulse_duration": {
           "unit": "millisecond",
           "value": 4
          },
          "pulse_frequency": {
           "unit": "hertz",
           "value": 200
          },
          "wire_feedrate": {
           "unit": "meter / minute",
           "value": 12
          }
         },
         "power_source": "TPS 500i",
         "tag": "GMAW"
        },
        "welding_wire": {
         "class": "G 42 2 C/M G4Si1",
         "diameter": {
          "unit": "millimeter",
          "value": 1.2
         },
         "wx_user": {
          "charge id": "00349764",
          "manufacturer": "WDI"
         }
        }
       },
       "reference_timestamp": {
        "value": "2021-03-17T11:06:42.334400"
       },
       "welding_current": {
        "data": {
         "interpolation": "step",
         "shape": [
          414091
         ],
         "time": {
          "end": {
           "value": "P0DT0H0M40.921S"
          },
          "max": {
           "value": "P0DT0H0M40.921S"
          },
          "min": {
           "value": "P-1DT23H59M59.512S"
          },
          "start": {
           "value": "P-1DT23H59M59.512S"
          },
          "values": {
           "byteorder": "little",
           "datatype": "int64",
           "shape": [
            414091
           ],
           "source": 0
          }
         },
         "unit": "ampere",
         "values": {
          "byteorder": "little",
          "datatype": "float64",
          "shape": [
           414091
          ],
          "source": 1
         }
        },
        "signal_type": "digital",
        "unit": "ampere"
       },
       "welding_voltage": {
        "data": {
         "interpolation": "step",
         "shape": [
          414091
         ],
         "time": {
          "end": {
           "value": "P0DT0H0M40.921S"
          },
          "max": {
           "value": "P0DT0H0M40.921S"
          },
          "min": {
           "value": "P-1DT23H59M59.512S"
          },
          "start": {
           "value": "P-1DT23H59M59.512S"
          },
          "values": {
           "byteorder": "little",
           "datatype": "int64",
           "shape": [
            414091
           ],
           "source": 2
          }
         },
         "unit": "volt",
         "values": {
          "byteorder": "little",
          "datatype": "float64",
          "shape": [
           414091
          ],
          "source": 3
         }
        },
        "signal_type": "digital",
        "unit": "volt"
       },
       "workpiece": {
        "base_metal": {
         "common_name": "S355J2+N",
         "standard": "DIN EN 10225-2:2011"
        },
        "geometry": {
         "groove_shape": {
          "alpha": {
           "unit": "degree",
           "value": 45
          },
          "b": {
           "unit": "millimeter",
           "value": 1
          },
          "c": {
           "unit": "millimeter",
           "value": 1
          },
          "code_number": [
           "1.3",
           "1.5"
          ],
          "t": {
           "unit": "millimeter",
           "value": 8
          }
         },
         "seam_length": {
          "unit": "millimeter",
          "value": 350
         }
        }
       },
       "wx_user": {
        "WID": 417,
        "operator": "C. Schippereit",
        "project": "WelDX presentation"
       }
      },
      "text/plain": [
       "<IPython.core.display.JSON object>"
      ]
     },
     "execution_count": 6,
     "metadata": {
      "application/json": {
       "expanded": false,
       "root": "./single_pass_weld_04.weldx/"
      }
     },
     "output_type": "execute_result"
    }
   ],
   "source": [
    "view_tree(filename)"
   ]
  },
  {
   "cell_type": "markdown",
   "id": "f9f43410",
   "metadata": {},
   "source": [
    "To open and access the example dataset we will use the `WeldxFile` class.\n",
    "\n",
    "```python\n",
    "wx_file = WeldxFile(filename, \"r\", sync=False)\n",
    "```\n",
    "\n",
    "You can find more infos about handling `weldx` files in the tutorial: https://weldx.readthedocs.io/en/latest/tutorials/weldxfile.html"
   ]
  },
  {
   "cell_type": "markdown",
   "id": "6cd6df66",
   "metadata": {
    "slideshow": {
     "slide_type": "skip"
    }
   },
   "source": [
    "The file is expected to validate against the schema `single_pass_weld-1.0.0.yaml`.\\\n",
    "The schema ensures that all elements of the `weldx` file pass the requirements defined in the schema, including:\n",
    "\n",
    "- all requirement entries are present in the file:\n",
    "  - `workpiece`\n",
    "  - `TCP`\n",
    "  - `welding_current`\n",
    "  - `welding_voltage`\n",
    "  - `measurement chains`\n",
    "  - `equipment`\n",
    "- all entries and objects stored in the file have the correct type\n",
    "- all additional restrictions defined in `single_pass_weld-1.0.0.yaml` are met\n",
    "\n",
    "The details describing the schema requirements can be found here: https://weldx.readthedocs.io/en/v0.5.0/generated/weldx.bam.de/weldx/datamodels/single_pass_weld-1.0.0.schema.html"
   ]
  },
  {
   "cell_type": "code",
   "execution_count": 7,
   "id": "29bcbe43",
   "metadata": {
    "slideshow": {
     "slide_type": "skip"
    }
   },
   "outputs": [],
   "source": [
    "file_schema = get_schema_path(\"single_pass_weld-1.0.0.schema.yaml\")"
   ]
  },
  {
   "cell_type": "markdown",
   "id": "34875211",
   "metadata": {
    "slideshow": {
     "slide_type": "subslide"
    }
   },
   "source": [
    "We open the `weldx` file and run a validation agains the `single_pass_weld-1.0.0.yaml` schema."
   ]
  },
  {
   "cell_type": "code",
   "execution_count": 9,
   "id": "c53534c6",
   "metadata": {},
   "outputs": [],
   "source": [
    "with WeldxFile(\n",
    "    filename,\n",
    "    \"r\",\n",
    "    custom_schema=file_schema,\n",
    "    sync=False,\n",
    "    asdffile_kwargs={\"copy_arrays\": True},\n",
    ") as file:\n",
    "    wx_file = file"
   ]
  },
  {
   "cell_type": "markdown",
   "id": "888e53a3",
   "metadata": {},
   "source": [
    "We can now access and explore the contents of the file interactively in our notebook."
   ]
  },
  {
   "cell_type": "markdown",
   "id": "268ef8a8",
   "metadata": {
    "slideshow": {
     "slide_type": "slide"
    },
    "tags": []
   },
   "source": [
    "## 2. General metadata\n",
    "First let's look at some general simple metadata stored in the WelDX-file.\n",
    "\n",
    "The (optional) `reference_timestamp` field is used to indicate the start time of the experiment (the moment of arc ignition). All time data that is not given as absolute time are interpreted as relative to the given reference time."
   ]
  },
  {
   "cell_type": "code",
   "execution_count": null,
   "id": "a3702124",
   "metadata": {},
   "outputs": [],
   "source": [
    "wx_file.get(\"reference_timestamp\")"
   ]
  },
  {
   "cell_type": "markdown",
   "id": "b495a06a",
   "metadata": {
    "slideshow": {
     "slide_type": "skip"
    }
   },
   "source": [
    "We can deduce the total runtime of the experiment from the TCP movement of the welding."
   ]
  },
  {
   "cell_type": "code",
   "execution_count": null,
   "id": "0f06f947",
   "metadata": {},
   "outputs": [],
   "source": [
    "wx_file[\"TCP\"].time"
   ]
  },
  {
   "cell_type": "markdown",
   "id": "6a93ebf7",
   "metadata": {},
   "source": [
    "The **WelDX** standard introduces the `wx_user` field to store user specific content."
   ]
  },
  {
   "cell_type": "code",
   "execution_count": null,
   "id": "f7f53f4b",
   "metadata": {},
   "outputs": [],
   "source": [
    "wx_file.get(\"wx_user\")"
   ]
  },
  {
   "cell_type": "markdown",
   "id": "58653adc",
   "metadata": {},
   "source": [
    "We define a time index from start to end of the experiment."
   ]
  },
  {
   "cell_type": "code",
   "execution_count": null,
   "id": "2073c713",
   "metadata": {},
   "outputs": [],
   "source": [
    "t = wx_file[\"TCP\"].time.as_timedelta_index()"
   ]
  },
  {
   "cell_type": "markdown",
   "id": "c5df4fd4",
   "metadata": {
    "slideshow": {
     "slide_type": "slide"
    }
   },
   "source": [
    "## 3. Workpiece definition\n",
    "The file schema mandates that the user provides workpiece information with the following properties:\n",
    "- `base_metal` referenced by a common name and the associated standard\n",
    "- the `geometry` consisting of a groove description following ISO 9692-1 and the seam length"
   ]
  },
  {
   "cell_type": "markdown",
   "id": "ed548b81",
   "metadata": {
    "slideshow": {
     "slide_type": "skip"
    }
   },
   "source": [
    "Here is how this information is stored the `workpiece` entry of the example dataset `weldx` file:\n",
    "```yaml\n",
    "workpiece:\n",
    "  base_metal: {common_name: S355J2+N, standard: 'DIN EN 10225-2:2011'}\n",
    "  geometry:\n",
    "    groove_shape: !weldx!groove/iso_9692_1_2013_12/VGroove-1.0.0\n",
    "      t: !unit/quantity-1.1.0 {unit: millimeter, value: 8}\n",
    "      alpha: !unit/quantity-1.1.0 {unit: degree, value: 45}\n",
    "      b: !unit/quantity-1.1.0 {unit: millimeter, value: 1}\n",
    "      c: !unit/quantity-1.1.0 {unit: millimeter, value: 1}\n",
    "      code_number: ['1.3', '1.5']\n",
    "    seam_length: !unit/quantity-1.1.0 {unit: millimeter, value: 350}\n",
    "```"
   ]
  },
  {
   "cell_type": "markdown",
   "id": "2f399789",
   "metadata": {
    "slideshow": {
     "slide_type": "subslide"
    },
    "tags": []
   },
   "source": [
    "### workpiece material\n",
    "\n",
    "Since we know exactly where to find the information in the file, we can access the metadata directly for all files that validate against the file schema."
   ]
  },
  {
   "cell_type": "code",
   "execution_count": null,
   "id": "85c5f8b7",
   "metadata": {},
   "outputs": [],
   "source": [
    "wx_file[\"workpiece\"][\"base_metal\"][\"common_name\"]"
   ]
  },
  {
   "cell_type": "code",
   "execution_count": null,
   "id": "e1f604e2",
   "metadata": {},
   "outputs": [],
   "source": [
    "wx_file[\"workpiece\"][\"base_metal\"][\"standard\"]"
   ]
  },
  {
   "cell_type": "markdown",
   "id": "3838122d",
   "metadata": {
    "slideshow": {
     "slide_type": "fragment"
    }
   },
   "source": [
    "### seam length\n",
    "\n",
    "The total seam length of the workpiece is also stored.\\\n",
    "As throughout most of the functionality of the `weldx` API, physical units must be used where appropriate to avoid ambiguity."
   ]
  },
  {
   "cell_type": "code",
   "execution_count": null,
   "id": "64d58599",
   "metadata": {},
   "outputs": [],
   "source": [
    "seam_length = wx_file[\"workpiece\"][\"geometry\"][\"seam_length\"]\n",
    "print(seam_length)"
   ]
  },
  {
   "cell_type": "markdown",
   "id": "d8295068",
   "metadata": {
    "slideshow": {
     "slide_type": "subslide"
    }
   },
   "source": [
    "### welding groove\n",
    "\n",
    "The groove shape will be loaded into a specific `weldx` type:"
   ]
  },
  {
   "cell_type": "code",
   "execution_count": null,
   "id": "aaba2243",
   "metadata": {},
   "outputs": [],
   "source": [
    "groove = wx_file[\"workpiece\"][\"geometry\"][\"groove_shape\"]\n",
    "str(groove)"
   ]
  },
  {
   "cell_type": "markdown",
   "id": "b5d0baba",
   "metadata": {
    "slideshow": {
     "slide_type": "skip"
    }
   },
   "source": [
    "The `weldx` API includes convinient functions to create and visualize different welding groove shapes.\\\n",
    "Many examples and details are available in this tutorial: https://weldx.readthedocs.io/en/v0.5.0/tutorials/groove_types_01.html"
   ]
  },
  {
   "cell_type": "markdown",
   "id": "fb2ace67",
   "metadata": {
    "slideshow": {
     "slide_type": "subslide"
    }
   },
   "source": [
    "To get a picture of the groove shape we can simply call the `plot` function."
   ]
  },
  {
   "cell_type": "code",
   "execution_count": null,
   "id": "3d269c3a",
   "metadata": {},
   "outputs": [],
   "source": [
    "groove.plot()\n",
    "fig = plt.gcf()\n",
    "fig.set_size_inches(7, 7);"
   ]
  },
  {
   "cell_type": "markdown",
   "id": "013ae5b3",
   "metadata": {
    "slideshow": {
     "slide_type": "subslide"
    }
   },
   "source": [
    "### 3D Geometry\n",
    "With all the metadata of the workpiece available, it is easy to visualize a simple 3D model of the specimen."
   ]
  },
  {
   "cell_type": "code",
   "execution_count": null,
   "id": "adbb1e91",
   "metadata": {},
   "outputs": [],
   "source": [
    "geometry = create_geometry(groove, seam_length, Q_(10, \"mm\"))\n",
    "geometry.plot(profile_raster_width=Q_(4, \"mm\"), trace_raster_width=Q_(60, \"mm\"))\n",
    "ax_setup(plt.gca())\n",
    "fig = plt.gcf()\n",
    "fig.set_size_inches(7, 7)"
   ]
  },
  {
   "cell_type": "markdown",
   "id": "1eac4dd4",
   "metadata": {
    "slideshow": {
     "slide_type": "skip"
    }
   },
   "source": [
    "## 4. Welding TCP movement description\n",
    "\n",
    "The path of the welding wire along the weld seam is given by the `TCP` property.\n",
    "\n",
    "The weld path is a linear movement between two points at a constant weld speed. The TCP reference frame is the workpiece base coordinate system, starting at the beginning of the weld seam. The x-axis coordinates will indicate the start- and end-point of the welding process along the workpiece length. The y- and z-coordinates determine the position of the TCP in relation to the cross-sectional groove plane.\n",
    "\n",
    "The information is stored in a [LocalCoordinateSystem](https://weldx.readthedocs.io/en/v0.5.0/_autosummary/weldx.transformations.LocalCoordinateSystem.html#weldx.transformations.LocalCoordinateSystem) instance with two points and the start and end time relative to the `reference_timestamp`.\n",
    "\n",
    "The YAML section of the `weldx` file describing the TCP movement looks like this:\n",
    "\n",
    "```yaml\n",
    "TCP: !weldx!core/transformations/local_coordinate_system-1.0.0\n",
    "  reference_time: &id001 !weldx!time/timestamp-1.0.0 {value: '2021-03-17T11:06:42.334400'}\n",
    "  time: !weldx!time/timedeltaindex-1.0.0\n",
    "    values: !core/ndarray-1.0.0\n",
    "      data: [0, 41333333333]\n",
    "      datatype: int64\n",
    "      shape: [2]\n",
    "    start: !weldx!time/timedelta-1.0.0 {value: P0DT0H0M0S}\n",
    "    end: !weldx!time/timedelta-1.0.0 {value: P0DT0H0M41.333333333S}\n",
    "    min: !weldx!time/timedelta-1.0.0 {value: P0DT0H0M0S}\n",
    "    max: !weldx!time/timedelta-1.0.0 {value: P0DT0H0M41.333333333S}\n",
    "  coordinates: !weldx!core/variable-1.0.0\n",
    "    name: coordinates\n",
    "    dimensions: [time, c]\n",
    "    dtype: <f8\n",
    "    data: !core/ndarray-1.0.0\n",
    "      data:\n",
    "      - [20.0, 0.0, 3.0]\n",
    "      - [330.0, 0.0, 3.0]\n",
    "      datatype: float64\n",
    "      shape: [2, 3]\n",
    "```\n",
    "\n",
    "The `data` section of the coordiantes describe the start end end point in 3D space: `[20.0, 0.0, 3.0]` to `[330.0, 0.0, 3.0]` .\n",
    "Therefor the welded part of the workpiece will extend from 20 mm to 330 mm of the joint. The offset in z-direction is 3 mm from the workpiece bottom."
   ]
  },
  {
   "cell_type": "markdown",
   "id": "5e5eed5d",
   "metadata": {
    "slideshow": {
     "slide_type": "subslide"
    }
   },
   "source": [
    "We can create a `CoordinateSystemManager` instance and add the movement of the welding TCP to the geometry plot:"
   ]
  },
  {
   "cell_type": "code",
   "execution_count": null,
   "id": "b5c8fe07",
   "metadata": {},
   "outputs": [],
   "source": [
    "csm_base = build_base_csm(wx_file, plot=False)\n",
    "csm_base.plot(\n",
    "    reference_system=\"workpiece\",\n",
    "    coordinate_systems=[\"TCP weld\"],\n",
    "    data_sets=[\"workpiece (simple)\"],\n",
    "    colors=cs_colors,\n",
    "    show_wireframe=True,\n",
    "    show_data_labels=False,\n",
    "    show_vectors=False,\n",
    ")\n",
    "ax_setup(plt.gca())"
   ]
  },
  {
   "cell_type": "markdown",
   "id": "09b4b2f0",
   "metadata": {
    "slideshow": {
     "slide_type": "slide"
    }
   },
   "source": [
    "## 5. Process description\n",
    "The arc welding process must be defined using the following properties:\n",
    "```yaml\n",
    "process:\n",
    "  type: object\n",
    "  properties:\n",
    "    welding_process:\n",
    "      $ref: \"http://weldx.bam.de/schemas/weldx/process/GMAW-1.0.0\"\n",
    "    shielding_gas:\n",
    "      tag: \"tag:weldx.bam.de:weldx/aws/process/shielding_gas_for_procedure-1.0.0\"\n",
    "    weld_speed:\n",
    "      ...\n",
    "    welding_wire:\n",
    "      ...\n",
    "  required: [welding_process, shielding_gas, weld_speed, welding_wire]\n",
    "```\n",
    "\n",
    "We can store the process property in a new variable:"
   ]
  },
  {
   "cell_type": "code",
   "execution_count": null,
   "id": "3343aa1e",
   "metadata": {
    "slideshow": {
     "slide_type": "skip"
    }
   },
   "outputs": [],
   "source": [
    "process = wx_file[\"process\"]"
   ]
  },
  {
   "cell_type": "markdown",
   "id": "8affe52a",
   "metadata": {
    "slideshow": {
     "slide_type": "skip"
    }
   },
   "source": [
    "The weld speed is restricted to a constant value of dimension \"[length]/[time]\"\n",
    "```yaml\n",
    "weld_speed:\n",
    "  tag: \"tag:weldx.bam.de:weldx/core/time_series-1.0.0\"\n",
    "  wx_unit: \"m/s\"\n",
    "  wx_shape: [1]\n",
    "```"
   ]
  },
  {
   "cell_type": "code",
   "execution_count": null,
   "id": "2299da58",
   "metadata": {
    "slideshow": {
     "slide_type": "subslide"
    }
   },
   "outputs": [],
   "source": [
    "process[\"weld_speed\"]"
   ]
  },
  {
   "cell_type": "markdown",
   "id": "dfcb8b04",
   "metadata": {},
   "source": [
    "The welding wire is described by the constant diameter and a string describing the classification.\n",
    "```yaml\n",
    "welding_wire:\n",
    "  type: object\n",
    "  properties:\n",
    "    diameter:\n",
    "      description: |\n",
    "        The diameter of the welding wire.\n",
    "      tag: \"tag:stsci.edu:asdf/unit/quantity-1.1.0\"\n",
    "      wx_unit: \"m\"\n",
    "      wx_shape: [1]\n",
    "    class:\n",
    "      type: string\n",
    "```\n",
    "\n",
    "Additional metadata can be stored in the `wx_user` field if necessary. In the example, a G4Si1 wire with 1.2 mm diameter was used. The manufacturer and charge number are also given."
   ]
  },
  {
   "cell_type": "code",
   "execution_count": null,
   "id": "cc478934",
   "metadata": {
    "slideshow": {
     "slide_type": "fragment"
    }
   },
   "outputs": [],
   "source": [
    "process[\"welding_wire\"]"
   ]
  },
  {
   "cell_type": "markdown",
   "id": "5c1eec00",
   "metadata": {},
   "source": [
    "The shielding gas information consists of a common name and the gas mixture."
   ]
  },
  {
   "cell_type": "code",
   "execution_count": null,
   "id": "dc356710",
   "metadata": {
    "slideshow": {
     "slide_type": "fragment"
    }
   },
   "outputs": [],
   "source": [
    "pprint(process[\"shielding_gas\"].torch_shielding_gas.__dict__)"
   ]
  },
  {
   "cell_type": "code",
   "execution_count": null,
   "id": "1c56ac96",
   "metadata": {
    "slideshow": {
     "slide_type": "skip"
    }
   },
   "outputs": [],
   "source": [
    "# switch to static plots\n",
    "%matplotlib inline"
   ]
  },
  {
   "cell_type": "markdown",
   "id": "20bf08b8",
   "metadata": {},
   "source": [
    "The `welding_process` describes the parameters set at the welding power source during the course of the experiment.\n",
    "\n",
    "Parameters are represented by a [`TimeSeries`](https://weldx.readthedocs.io/en/v0.5.0/tutorials/timeseries_01.html) object and can vary over time. In this example, all parameters are set to constant values."
   ]
  },
  {
   "cell_type": "code",
   "execution_count": null,
   "id": "f81700fe",
   "metadata": {
    "slideshow": {
     "slide_type": "subslide"
    }
   },
   "outputs": [],
   "source": [
    "gmaw_process = process[\"welding_process\"]\n",
    "fig, ax = plot_gmaw(gmaw_process, t)"
   ]
  },
  {
   "cell_type": "markdown",
   "id": "e854413b",
   "metadata": {
    "slideshow": {
     "slide_type": "slide"
    }
   },
   "source": [
    "## 6. Measurements\n",
    "We can list all measurements stored in the file."
   ]
  },
  {
   "cell_type": "code",
   "execution_count": null,
   "id": "079cbc90",
   "metadata": {},
   "outputs": [],
   "source": [
    "for measurement in wx_file[\"measurements\"]:\n",
    "    print(measurement.name)"
   ]
  },
  {
   "cell_type": "markdown",
   "id": "548a8076",
   "metadata": {},
   "source": [
    "We can also create a plot showing all signals stored in the measurement chains listed under `measurements`.\n",
    "\n",
    "In the example dataset the welding current and voltage are recorded during the welding process. The temperature-measurements are recorded before and after the welding experiment. Due to the use of reference times, all signals can be synchronized. "
   ]
  },
  {
   "cell_type": "code",
   "execution_count": null,
   "id": "388c9536",
   "metadata": {
    "slideshow": {
     "slide_type": "subslide"
    }
   },
   "outputs": [],
   "source": [
    "plot_measurements(wx_file[\"measurements\"])"
   ]
  },
  {
   "cell_type": "code",
   "execution_count": null,
   "id": "9a921454",
   "metadata": {
    "slideshow": {
     "slide_type": "skip"
    }
   },
   "outputs": [],
   "source": [
    "# switch to interactive plots\n",
    "%matplotlib widget"
   ]
  },
  {
   "cell_type": "markdown",
   "id": "749af8e4",
   "metadata": {
    "slideshow": {
     "slide_type": "skip"
    }
   },
   "source": [
    "Plot the voltage measurement:"
   ]
  },
  {
   "cell_type": "code",
   "execution_count": null,
   "id": "01dea7b8",
   "metadata": {
    "slideshow": {
     "slide_type": "skip"
    }
   },
   "outputs": [],
   "source": [
    "plot_signal(wx_file[\"welding_voltage\"], \"welding_voltage\")"
   ]
  },
  {
   "cell_type": "markdown",
   "id": "2f2e25b4",
   "metadata": {
    "slideshow": {
     "slide_type": "subslide"
    }
   },
   "source": [
    "Plot the current meausurement:"
   ]
  },
  {
   "cell_type": "code",
   "execution_count": null,
   "id": "0ee1eacc",
   "metadata": {
    "slideshow": {
     "slide_type": "-"
    }
   },
   "outputs": [],
   "source": [
    "plot_signal(wx_file[\"welding_current\"], \"welding_current\")"
   ]
  },
  {
   "cell_type": "markdown",
   "id": "7923f6d3",
   "metadata": {
    "slideshow": {
     "slide_type": "skip"
    }
   },
   "source": [
    "Here is a detailed look at the current waveform:"
   ]
  },
  {
   "cell_type": "code",
   "execution_count": null,
   "id": "e6f53f21",
   "metadata": {
    "slideshow": {
     "slide_type": "skip"
    }
   },
   "outputs": [],
   "source": [
    "plot_signal(wx_file[\"welding_current\"], \"welding_current\", limits=(23, 23.025))"
   ]
  },
  {
   "cell_type": "markdown",
   "id": "fc8db69d",
   "metadata": {
    "slideshow": {
     "slide_type": "slide"
    }
   },
   "source": [
    "## 7. Measurement chains\n",
    "To document how a welding related measurement was conducted, we can describe and store measurement chains using the `weldx` API.\n",
    "This includes:\n",
    "- describing the measurement equipment\n",
    "- describing multiple transformation steps from raw-data to the final measurement\n",
    "- providing information about measurement uncertainties and errors\n",
    "- attaching certification examples or similar files\n",
    "\n",
    "An in depth example describing measurement chains can be found in the documentation: [meassurement_example](https://weldx.readthedocs.io/en/v0.5.0/tutorials/measurement_example.html)"
   ]
  },
  {
   "cell_type": "markdown",
   "id": "33432edb",
   "metadata": {
    "slideshow": {
     "slide_type": "skip"
    }
   },
   "source": [
    "### current measurement chain"
   ]
  },
  {
   "cell_type": "code",
   "execution_count": null,
   "id": "92a5931b",
   "metadata": {
    "slideshow": {
     "slide_type": "skip"
    }
   },
   "outputs": [],
   "source": [
    "current_measurement_chain = wx_file[\"measurements\"][0].measurement_chain\n",
    "\n",
    "current_source = current_measurement_chain.source\n",
    "print(current_source.name)\n",
    "for processor in current_measurement_chain.transformations:\n",
    "    print(processor.name)"
   ]
  },
  {
   "cell_type": "markdown",
   "id": "e9a3f861",
   "metadata": {},
   "source": [
    "Each measurement chain object can be visualized with it's plot function. The squared nodes represent signals, the circular nodes show data that is present for a single signal. Transformation steps between signals are given with name and some info."
   ]
  },
  {
   "cell_type": "code",
   "execution_count": null,
   "id": "89728006",
   "metadata": {
    "slideshow": {
     "slide_type": "skip"
    }
   },
   "outputs": [],
   "source": [
    "# switch to static plots\n",
    "%matplotlib inline"
   ]
  },
  {
   "cell_type": "code",
   "execution_count": null,
   "id": "7209a33e",
   "metadata": {
    "slideshow": {
     "slide_type": "subslide"
    }
   },
   "outputs": [],
   "source": [
    "fig, ax = plt.subplots(nrows=1, figsize=(12, 6))\n",
    "wx_file[\"measurements\"][0].measurement_chain.plot(ax)\n",
    "ipympl_style(fig, toolbar=False)"
   ]
  },
  {
   "cell_type": "code",
   "execution_count": null,
   "id": "b603e903",
   "metadata": {
    "slideshow": {
     "slide_type": "skip"
    }
   },
   "outputs": [],
   "source": [
    "fig, ax = plt.subplots(nrows=1, figsize=(12, 6))\n",
    "wx_file[\"measurements\"][1].measurement_chain.plot(ax)\n",
    "ipympl_style(fig, toolbar=False)"
   ]
  },
  {
   "cell_type": "code",
   "execution_count": null,
   "id": "da50a973",
   "metadata": {
    "slideshow": {
     "slide_type": "subslide"
    }
   },
   "outputs": [],
   "source": [
    "fig, ax = plt.subplots(nrows=1, figsize=(12, 6))\n",
    "wx_file[\"measurements\"][2].measurement_chain.plot(ax)\n",
    "ipympl_style(fig, toolbar=False)"
   ]
  },
  {
   "cell_type": "markdown",
   "id": "311038d3",
   "metadata": {
    "slideshow": {
     "slide_type": "slide"
    }
   },
   "source": [
    "## 8. coordinate systems\n",
    "The `weldx` API contains multiple functions to describe dependencies and transformations between multiple different coordinate systems.\n",
    "\n",
    "- translations and rotations\n",
    "- constant and time dependent transformations\n",
    "- transformation between different systems\n",
    "- grouping multiple systems into subsystems\n",
    "- transforming spatial data between different coordinate systems\n",
    "- visualization of transformations and systems"
   ]
  },
  {
   "cell_type": "markdown",
   "id": "2a1a020e",
   "metadata": {
    "slideshow": {
     "slide_type": "skip"
    }
   },
   "source": [
    "There are multiple tutorials available covering coordinate transformations using the `LocalCoordinateSystem` and `CoordinateSystemManager` classes:\n",
    "\n",
    "- https://weldx.readthedocs.io/en/v0.5.0/tutorials/transformations_01_coordinate_systems.html\n",
    "- https://weldx.readthedocs.io/en/v0.5.0/tutorials/transformations_02_coordinate_system_manager.html\n",
    "- https://weldx.readthedocs.io/en/v0.5.0/tutorials/transformations_02_coordinate_system_manager.html#Visualizing-the-coordinate-systems-of-the-CSM\n",
    "- https://weldx.readthedocs.io/en/v0.5.0/tutorials/welding_example_02_weaving.html"
   ]
  },
  {
   "cell_type": "code",
   "execution_count": null,
   "id": "5d01020c",
   "metadata": {
    "slideshow": {
     "slide_type": "skip"
    }
   },
   "outputs": [],
   "source": [
    "# switch to static plots\n",
    "%matplotlib inline"
   ]
  },
  {
   "cell_type": "markdown",
   "id": "cad01599",
   "metadata": {
    "slideshow": {
     "slide_type": "skip"
    }
   },
   "source": [
    "In addition to the simplified weldment specification, the example dataset contains the complete coordinate system information describing the BAM arc welding setup.\n",
    "\n",
    "- the definition of the reference user frame used for robot programming\n",
    "- the recorded actual TCP movement of the robot\n",
    "- the movement of a laser line scanner attached to the robot head"
   ]
  },
  {
   "cell_type": "markdown",
   "id": "518ed1bf",
   "metadata": {
    "slideshow": {
     "slide_type": "skip"
    }
   },
   "source": [
    "We can load the instance of the coordinate system manager directly from the `weldx` file.\\\n",
    "Following the file schema the data can be accessed under the key `coordinate_systems`."
   ]
  },
  {
   "cell_type": "code",
   "execution_count": null,
   "id": "ca90ed10",
   "metadata": {
    "slideshow": {
     "slide_type": "skip"
    }
   },
   "outputs": [],
   "source": [
    "csm = wx_file[\"coordinate_systems\"]"
   ]
  },
  {
   "cell_type": "markdown",
   "id": "0a410be1",
   "metadata": {},
   "source": [
    "We can visualize all loaded coordinate systems using the built-in `plot` functions."
   ]
  },
  {
   "cell_type": "code",
   "execution_count": null,
   "id": "3306c5ce",
   "metadata": {},
   "outputs": [],
   "source": [
    "csm"
   ]
  },
  {
   "cell_type": "code",
   "execution_count": null,
   "id": "86530d96",
   "metadata": {
    "slideshow": {
     "slide_type": "-"
    }
   },
   "outputs": [],
   "source": [
    "csm.plot_graph()\n",
    "plt.gcf().set_size_inches(w=6, h=6)"
   ]
  },
  {
   "cell_type": "markdown",
   "id": "26f1d011",
   "metadata": {
    "slideshow": {
     "slide_type": "skip"
    }
   },
   "source": [
    "Let's take another look at the weld specimen.\n",
    "\n",
    "<img src='./data/WID417_pre.JPG' width=\"640\" />"
   ]
  },
  {
   "cell_type": "markdown",
   "id": "b700d6fd",
   "metadata": {
    "slideshow": {
     "slide_type": "skip"
    }
   },
   "source": [
    "The workpiece coordinate system has it's origin located at the start of the workpiece at groove center. We can calculate the position of the thermocouple placement in the workpiece coordinate system."
   ]
  },
  {
   "cell_type": "code",
   "execution_count": null,
   "id": "fb02a02b",
   "metadata": {
    "slideshow": {
     "slide_type": "skip"
    }
   },
   "outputs": [],
   "source": [
    "csm.get_cs(\"T1\", \"user_frame\")"
   ]
  },
  {
   "cell_type": "markdown",
   "id": "f1246111",
   "metadata": {
    "slideshow": {
     "slide_type": "skip"
    }
   },
   "source": [
    "The second thermocouple is offset by 5 mm from the first."
   ]
  },
  {
   "cell_type": "code",
   "execution_count": null,
   "id": "c6e4d953",
   "metadata": {
    "slideshow": {
     "slide_type": "skip"
    }
   },
   "outputs": [],
   "source": [
    "csm.get_cs(\"T2\", \"T1\")"
   ]
  },
  {
   "cell_type": "markdown",
   "id": "7f887c2f",
   "metadata": {},
   "source": [
    "The following command will calculate the recorded robot TCP movement in reference to the workpiece coordinate system.\n",
    "Since the robot movement is time dependent, the result will be a time dependent coordiante system."
   ]
  },
  {
   "cell_type": "code",
   "execution_count": null,
   "id": "94f97e76",
   "metadata": {
    "slideshow": {
     "slide_type": "skip"
    }
   },
   "outputs": [],
   "source": [
    "csm.get_cs(\"TCP\", \"workpiece\")"
   ]
  },
  {
   "cell_type": "code",
   "execution_count": null,
   "id": "d4308c83",
   "metadata": {},
   "outputs": [],
   "source": [
    "csm"
   ]
  },
  {
   "cell_type": "markdown",
   "id": "61d3c524",
   "metadata": {},
   "source": [
    "## 9. Interactive 3D visualization"
   ]
  },
  {
   "cell_type": "markdown",
   "id": "8ea95feb",
   "metadata": {
    "slideshow": {
     "slide_type": "skip"
    }
   },
   "source": [
    "### Add geometry data to CSM\n",
    "\n",
    "For visualization using the `k3d` backend we create some 3D data from the workpiece description metadata and add it to the `CoordinateSystemManager`"
   ]
  },
  {
   "cell_type": "code",
   "execution_count": null,
   "id": "83990c8a",
   "metadata": {
    "slideshow": {
     "slide_type": "skip"
    }
   },
   "outputs": [],
   "source": [
    "geometry_full_width = create_geometry(groove, seam_length, Q_(100, \"mm\"))\n",
    "spatial_data_geo_full = geometry_full_width.spatial_data(\n",
    "    profile_raster_width=Q_(4, \"mm\"), trace_raster_width=Q_(60, \"mm\")\n",
    ")\n",
    "spatial_data_geo_full.coordinates = spatial_data_geo_full.coordinates.astype(\"float32\")\n",
    "\n",
    "spatial_data_geo_reduced = geometry.spatial_data(\n",
    "    profile_raster_width=Q_(4, \"mm\"), trace_raster_width=Q_(60, \"mm\")\n",
    ")\n",
    "\n",
    "csm.assign_data(spatial_data_geo_full, \"workpiece geometry\", \"workpiece\")\n",
    "csm.assign_data(spatial_data_geo_reduced, \"workpiece geometry (reduced)\", \"workpiece\")"
   ]
  },
  {
   "cell_type": "markdown",
   "id": "487cc70f",
   "metadata": {
    "slideshow": {
     "slide_type": "skip"
    }
   },
   "source": [
    "We also add a 3D model of the welding wire and attach it to the `TCP` coordinate system. The wire model will follow the TCP movement."
   ]
  },
  {
   "cell_type": "code",
   "execution_count": null,
   "id": "843a22a7",
   "metadata": {
    "slideshow": {
     "slide_type": "skip"
    }
   },
   "outputs": [],
   "source": [
    "welding_wire_diameter = wx_file[\"process\"][\"welding_wire\"][\"diameter\"].m\n",
    "csm.assign_data(\n",
    "    welding_wire_geo_data(welding_wire_diameter / 2, 17, 16), \"welding_wire\", \"TCP\"\n",
    ")"
   ]
  },
  {
   "cell_type": "markdown",
   "id": "377f35c0",
   "metadata": {
    "slideshow": {
     "slide_type": "skip"
    }
   },
   "source": [
    "Here is an example visualization of the experiment design.\\\n",
    "The reconstruction is entierly based on the metadata stored inside the `weldx` file."
   ]
  },
  {
   "cell_type": "code",
   "execution_count": null,
   "id": "cc4824ae",
   "metadata": {
    "slideshow": {
     "slide_type": "subslide"
    }
   },
   "outputs": [],
   "source": [
    "csm.plot(\n",
    "    reference_system=\"workpiece\",\n",
    "    coordinate_systems=[\"TCP design\", \"T1\", \"T2\"],\n",
    "    data_sets=[\"workpiece geometry\", \"welding_wire\"],\n",
    "    colors=cs_colors,\n",
    "    show_data_labels=True,\n",
    "    backend=\"k3d\",\n",
    ")"
   ]
  },
  {
   "cell_type": "markdown",
   "id": "9c564de3",
   "metadata": {},
   "source": [
    "Here is the same visualization, this time using only actual measurement data for the plot.\n",
    "\n",
    "The `TCP` motion is taken from the robot recording of the actual TCP during welding operation.\\\n",
    "The workpiece data was obtained from a 3D scan of the workpiece data before and after welding. We can switch the pre- and post-weld scan data for the plot by selecting the corresponding datasets `scan_0` or `scan_1` in the following cell."
   ]
  },
  {
   "cell_type": "code",
   "execution_count": null,
   "id": "5bd2837c",
   "metadata": {
    "slideshow": {
     "slide_type": "subslide"
    }
   },
   "outputs": [],
   "source": [
    "csm.plot(\n",
    "    reference_system=\"workpiece\",\n",
    "    coordinate_systems=[\"TCP\", \"T1\", \"T2\"],\n",
    "    data_sets=[\"scan_0\", \"welding_wire\"],\n",
    "    colors=cs_colors,\n",
    "    show_data_labels=True,\n",
    "    backend=\"k3d\",\n",
    ")"
   ]
  }
 ],
 "metadata": {
  "celltoolbar": "Slideshow",
  "kernelspec": {
   "display_name": "weldx",
   "language": "python",
   "name": "weldx-dev"
  },
  "language_info": {
   "codemirror_mode": {
    "name": "ipython",
    "version": 3
   },
   "file_extension": ".py",
   "mimetype": "text/x-python",
   "name": "python",
   "nbconvert_exporter": "python",
   "pygments_lexer": "ipython3",
   "version": "3.9.2"
  },
  "rise": {
   "autolaunch": false,
   "footer": "<h3>IIW joint intermediate meeting C-I, C-IV, C-XII, SG-212 - 30.03.2021</h3>",
   "header": "<h1>WelDX - progress report on the welding data exchange format</h1>",
   "scroll": true,
   "theme": "white",
   "transition": "fade"
  },
  "toc-autonumbering": false,
  "toc-showmarkdowntxt": false,
  "toc-showtags": false
 },
 "nbformat": 4,
 "nbformat_minor": 5
}
